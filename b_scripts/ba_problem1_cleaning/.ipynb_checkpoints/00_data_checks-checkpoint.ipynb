{
 "cells": [
  {
   "cell_type": "code",
   "execution_count": 5,
   "id": "ef4f8e64",
   "metadata": {},
   "outputs": [],
   "source": [
    "# Import packages\n",
    "import pandas as pd\n",
    "\n",
    "#Load data\n",
    "cars_trips = pd.read_csv(\"../../a_data/aa_raw_data/cars_trips.csv\")\n",
    "cars_country = pd.read_csv(\"../../a_data/aa_raw_data/cars_country.csv\")\n",
    "cars_fleet = pd.read_csv(\"../../a_data/aa_raw_data/cars_fleet.csv\")\n",
    "cars_price  = pd.read_csv(\"../../a_data/aa_raw_data/cars_price.csv\")"
   ]
  },
  {
   "cell_type": "code",
   "execution_count": null,
   "id": "5169028a",
   "metadata": {},
   "outputs": [],
   "source": [
    "# 1. Function to get the table basic stats and metadata in a markdown table structure:\n",
    "def getMetaTable(df):\n",
    "    for col in df.columns:\n",
    "        a = df[col].dtypes\n",
    "        b = df[col].isna().sum()\n",
    "        c = len(df[col].unique())\n",
    "        if a=='int64' or a =='float64':\n",
    "            d = round(df[col].min(),2)\n",
    "            e = round(df[col].max(),2)\n",
    "            f = round(df[col].mean(),2)\n",
    "        else:\n",
    "            d = ' -- '\n",
    "            e = ' -- '\n",
    "            f = ' -- ' \n",
    "        print( '| ', col,' |', a, ' | ' , b, '|' , c,' | ' ,d,' | ' ,e, ' | ', f, '|')\n",
    "    return  "
   ]
  },
  {
   "cell_type": "code",
   "execution_count": null,
   "id": "727dd8fa",
   "metadata": {},
   "outputs": [],
   "source": [
    "# 1. head to understand the data available:\n",
    "print(cars_trips.head())"
   ]
  },
  {
   "cell_type": "code",
   "execution_count": null,
   "id": "d7c18d01",
   "metadata": {},
   "outputs": [],
   "source": [
    "# 1. print the markdown table:\n",
    "print(\"| Var  | Var_type | NULL_Values  | Distincts_Values | Min_Values | Max_Values | Average | \")\n",
    "print(\"|---|---|---|---|---|---|---|\")\n",
    "getMetaTable(cars_trips);\n"
   ]
  },
  {
   "cell_type": "code",
   "execution_count": null,
   "id": "47a85084",
   "metadata": {},
   "outputs": [],
   "source": [
    "# 1.1. cars_fleet - check NaNs:\n",
    "nan_rows  =  cars_fleet[cars_fleet['horsepower'].isnull()]\n",
    "print(nan_rows)"
   ]
  },
  {
   "cell_type": "code",
   "execution_count": 19,
   "id": "056705bf",
   "metadata": {},
   "outputs": [],
   "source": [
    "# 1.1. cars_fleet - Get the cars manufacturer:\n",
    "# get manufacturer by splitting the data:\n",
    "cars_fleet[\"custom_car_manufacturer\"] = cars_fleet[\"car_name\"].str.split(\" \", n = 1, expand = True)[0]\n",
    "\n",
    "# Check the output manufacturer:\n",
    "#print(cars_fleet.groupby('custom_car_manufacturer').id.nunique())\n",
    "\n",
    "# Clean manufacturer:\n",
    "cars_fleet[\"custom_car_manufacturer\"] = cars_fleet[\"custom_car_manufacturer\"].replace(\n",
    "    [ \"chevroelt\", \"maxda\", \"mercedes\",\"toyouta\", \"vokswagen\",\"vw\"],\n",
    "    [ \"chevrolet\", \"mazda\", \"mercedes-benz\", \"toyota\", \"volkswagen\",\"volkswagen\"]\n",
    ")\n",
    "\n",
    "# save\n",
    "cars_fleet.to_csv('../../a_data/ab_processed_data/p_cars_fleet.csv', index=False)  \n"
   ]
  },
  {
   "cell_type": "code",
   "execution_count": null,
   "id": "dbec50d5",
   "metadata": {},
   "outputs": [],
   "source": [
    "# 1.5. cars_trips - check start_time NaNs:\n",
    "cars_trips['custom_end_day'] = cars_trips['end_time'].str.slice(0, 10)\n",
    "cars_trips['custom_start_longitude'] = round(cars_trips['start_longitude'])\n",
    "cars_trips['custom_start_latitude'] = round(cars_trips['start_latitude'])\n",
    "\n",
    "nan_rows  =  cars_trips[cars_trips['start_time'].isnull()]\n",
    "\n",
    "#print(cars_trips.groupby('custom_end_day').car_id.nunique())\n",
    "print(nan_rows.groupby('custom_start_longitude').agg('count').car_id)\n",
    "print(nan_rows.groupby('custom_start_latitude').agg('count').car_id)\n",
    "\n"
   ]
  },
  {
   "cell_type": "code",
   "execution_count": null,
   "id": "17782745",
   "metadata": {},
   "outputs": [],
   "source": [
    "# 1.5. cars_trips - check latitude=0:\n",
    "#print(cars_trips[cars_trips['start_latitude']==0].head())\n",
    "\n",
    "# 1.5. cars_trips - check trip_distance NaNs:\n",
    "print(cars_trips[cars_trips['trip_distance'].isnull()].head())\n"
   ]
  },
  {
   "cell_type": "code",
   "execution_count": null,
   "id": "38149542",
   "metadata": {},
   "outputs": [],
   "source": [
    "# 1.5. cars_trips -  calculating trip_distance manually\n",
    "# NOT USED IN THE FINAL DATA  - as is mentioned in the markdown document, due to quality guarantee I rather to research further before using a distance self calculation\n",
    "\n",
    "# based on answers: https://stackoverflow.com/questions/19412462/getting-distance-between-two-points-based-on-latitude-longitude\n",
    "# I simply switch math package to numpy to be able to work with pandas dataframes\n",
    "\n",
    "import numpy as np # import sin, cos, sqrt, arctan2, radians, pi\n",
    "# approximate radius of earth in km\n",
    "#R = 6373.0\n",
    "\n",
    "def calcDistance(lat1, lat2, lon1, lon2):\n",
    "    R = 6373\n",
    "    lat1 = radians(lat1)\n",
    "    lon1 = radians(lat2)\n",
    "    lat2 = radians(lon1)\n",
    "    lon2 = radians(lon2)\n",
    "    dlat = lat2 - lat1\n",
    "    dlon = lon2 - lon1\n",
    "    a = sin(dlat / 2)**2 + cos(lat1) * cos(lat2) * sin(dlon / 2)**2\n",
    "    c = 2 * arctan2(sqrt(a), sqrt(1 - a))\n",
    "    return  R * c\n",
    "\n",
    "cars_trips[\"custom_trip_distance\"] =calcDistance(cars_trips[\"start_latitude\"], cars_trips[\"end_latitude\"], cars_trips[\"start_longitude\"], cars_trips[\"end_longitude\"])\n",
    "\n",
    "print(cars_trips.head())\n",
    "cars_trips = cars_trips.drop('custom_trip_distance', axis=1)"
   ]
  },
  {
   "cell_type": "code",
   "execution_count": 16,
   "id": "c129e546",
   "metadata": {
    "scrolled": true
   },
   "outputs": [
    {
     "ename": "KeyError",
     "evalue": "'start_time'",
     "output_type": "error",
     "traceback": [
      "\u001b[1;31m---------------------------------------------------------------------------\u001b[0m",
      "\u001b[1;31mKeyError\u001b[0m                                  Traceback (most recent call last)",
      "\u001b[1;32m~\\anaconda3\\lib\\site-packages\\pandas\\core\\indexes\\base.py\u001b[0m in \u001b[0;36mget_loc\u001b[1;34m(self, key, method, tolerance)\u001b[0m\n\u001b[0;32m   3079\u001b[0m             \u001b[1;32mtry\u001b[0m\u001b[1;33m:\u001b[0m\u001b[1;33m\u001b[0m\u001b[1;33m\u001b[0m\u001b[0m\n\u001b[1;32m-> 3080\u001b[1;33m                 \u001b[1;32mreturn\u001b[0m \u001b[0mself\u001b[0m\u001b[1;33m.\u001b[0m\u001b[0m_engine\u001b[0m\u001b[1;33m.\u001b[0m\u001b[0mget_loc\u001b[0m\u001b[1;33m(\u001b[0m\u001b[0mcasted_key\u001b[0m\u001b[1;33m)\u001b[0m\u001b[1;33m\u001b[0m\u001b[1;33m\u001b[0m\u001b[0m\n\u001b[0m\u001b[0;32m   3081\u001b[0m             \u001b[1;32mexcept\u001b[0m \u001b[0mKeyError\u001b[0m \u001b[1;32mas\u001b[0m \u001b[0merr\u001b[0m\u001b[1;33m:\u001b[0m\u001b[1;33m\u001b[0m\u001b[1;33m\u001b[0m\u001b[0m\n",
      "\u001b[1;32mpandas\\_libs\\index.pyx\u001b[0m in \u001b[0;36mpandas._libs.index.IndexEngine.get_loc\u001b[1;34m()\u001b[0m\n",
      "\u001b[1;32mpandas\\_libs\\index.pyx\u001b[0m in \u001b[0;36mpandas._libs.index.IndexEngine.get_loc\u001b[1;34m()\u001b[0m\n",
      "\u001b[1;32mpandas\\_libs\\hashtable_class_helper.pxi\u001b[0m in \u001b[0;36mpandas._libs.hashtable.PyObjectHashTable.get_item\u001b[1;34m()\u001b[0m\n",
      "\u001b[1;32mpandas\\_libs\\hashtable_class_helper.pxi\u001b[0m in \u001b[0;36mpandas._libs.hashtable.PyObjectHashTable.get_item\u001b[1;34m()\u001b[0m\n",
      "\u001b[1;31mKeyError\u001b[0m: 'start_time'",
      "\nThe above exception was the direct cause of the following exception:\n",
      "\u001b[1;31mKeyError\u001b[0m                                  Traceback (most recent call last)",
      "\u001b[1;32m<ipython-input-16-77194c6697a8>\u001b[0m in \u001b[0;36m<module>\u001b[1;34m\u001b[0m\n\u001b[0;32m      1\u001b[0m \u001b[1;31m# 1.5. cars_trips - getting trip minutes:\u001b[0m\u001b[1;33m\u001b[0m\u001b[1;33m\u001b[0m\u001b[1;33m\u001b[0m\u001b[0m\n\u001b[0;32m      2\u001b[0m \u001b[1;33m\u001b[0m\u001b[0m\n\u001b[1;32m----> 3\u001b[1;33m \u001b[0mcars_trips\u001b[0m\u001b[1;33m[\u001b[0m\u001b[1;34m'start_time'\u001b[0m\u001b[1;33m]\u001b[0m \u001b[1;33m=\u001b[0m \u001b[0mpd\u001b[0m\u001b[1;33m.\u001b[0m\u001b[0mto_datetime\u001b[0m\u001b[1;33m(\u001b[0m\u001b[0mcars_trips\u001b[0m\u001b[1;33m[\u001b[0m\u001b[1;34m'start_time'\u001b[0m\u001b[1;33m]\u001b[0m\u001b[1;33m)\u001b[0m \u001b[1;31m# transform dates to date-time format\u001b[0m\u001b[1;33m\u001b[0m\u001b[1;33m\u001b[0m\u001b[0m\n\u001b[0m\u001b[0;32m      4\u001b[0m \u001b[0mcars_trips\u001b[0m\u001b[1;33m[\u001b[0m\u001b[1;34m'end_time'\u001b[0m\u001b[1;33m]\u001b[0m \u001b[1;33m=\u001b[0m \u001b[0mpd\u001b[0m\u001b[1;33m.\u001b[0m\u001b[0mto_datetime\u001b[0m\u001b[1;33m(\u001b[0m\u001b[0mcars_trips\u001b[0m\u001b[1;33m[\u001b[0m\u001b[1;34m'end_time'\u001b[0m\u001b[1;33m]\u001b[0m\u001b[1;33m)\u001b[0m\u001b[1;33m\u001b[0m\u001b[1;33m\u001b[0m\u001b[0m\n\u001b[0;32m      5\u001b[0m \u001b[1;31m#get the difference in the variables\u001b[0m\u001b[1;33m\u001b[0m\u001b[1;33m\u001b[0m\u001b[1;33m\u001b[0m\u001b[0m\n",
      "\u001b[1;32m~\\anaconda3\\lib\\site-packages\\pandas\\core\\frame.py\u001b[0m in \u001b[0;36m__getitem__\u001b[1;34m(self, key)\u001b[0m\n\u001b[0;32m   3022\u001b[0m             \u001b[1;32mif\u001b[0m \u001b[0mself\u001b[0m\u001b[1;33m.\u001b[0m\u001b[0mcolumns\u001b[0m\u001b[1;33m.\u001b[0m\u001b[0mnlevels\u001b[0m \u001b[1;33m>\u001b[0m \u001b[1;36m1\u001b[0m\u001b[1;33m:\u001b[0m\u001b[1;33m\u001b[0m\u001b[1;33m\u001b[0m\u001b[0m\n\u001b[0;32m   3023\u001b[0m                 \u001b[1;32mreturn\u001b[0m \u001b[0mself\u001b[0m\u001b[1;33m.\u001b[0m\u001b[0m_getitem_multilevel\u001b[0m\u001b[1;33m(\u001b[0m\u001b[0mkey\u001b[0m\u001b[1;33m)\u001b[0m\u001b[1;33m\u001b[0m\u001b[1;33m\u001b[0m\u001b[0m\n\u001b[1;32m-> 3024\u001b[1;33m             \u001b[0mindexer\u001b[0m \u001b[1;33m=\u001b[0m \u001b[0mself\u001b[0m\u001b[1;33m.\u001b[0m\u001b[0mcolumns\u001b[0m\u001b[1;33m.\u001b[0m\u001b[0mget_loc\u001b[0m\u001b[1;33m(\u001b[0m\u001b[0mkey\u001b[0m\u001b[1;33m)\u001b[0m\u001b[1;33m\u001b[0m\u001b[1;33m\u001b[0m\u001b[0m\n\u001b[0m\u001b[0;32m   3025\u001b[0m             \u001b[1;32mif\u001b[0m \u001b[0mis_integer\u001b[0m\u001b[1;33m(\u001b[0m\u001b[0mindexer\u001b[0m\u001b[1;33m)\u001b[0m\u001b[1;33m:\u001b[0m\u001b[1;33m\u001b[0m\u001b[1;33m\u001b[0m\u001b[0m\n\u001b[0;32m   3026\u001b[0m                 \u001b[0mindexer\u001b[0m \u001b[1;33m=\u001b[0m \u001b[1;33m[\u001b[0m\u001b[0mindexer\u001b[0m\u001b[1;33m]\u001b[0m\u001b[1;33m\u001b[0m\u001b[1;33m\u001b[0m\u001b[0m\n",
      "\u001b[1;32m~\\anaconda3\\lib\\site-packages\\pandas\\core\\indexes\\base.py\u001b[0m in \u001b[0;36mget_loc\u001b[1;34m(self, key, method, tolerance)\u001b[0m\n\u001b[0;32m   3080\u001b[0m                 \u001b[1;32mreturn\u001b[0m \u001b[0mself\u001b[0m\u001b[1;33m.\u001b[0m\u001b[0m_engine\u001b[0m\u001b[1;33m.\u001b[0m\u001b[0mget_loc\u001b[0m\u001b[1;33m(\u001b[0m\u001b[0mcasted_key\u001b[0m\u001b[1;33m)\u001b[0m\u001b[1;33m\u001b[0m\u001b[1;33m\u001b[0m\u001b[0m\n\u001b[0;32m   3081\u001b[0m             \u001b[1;32mexcept\u001b[0m \u001b[0mKeyError\u001b[0m \u001b[1;32mas\u001b[0m \u001b[0merr\u001b[0m\u001b[1;33m:\u001b[0m\u001b[1;33m\u001b[0m\u001b[1;33m\u001b[0m\u001b[0m\n\u001b[1;32m-> 3082\u001b[1;33m                 \u001b[1;32mraise\u001b[0m \u001b[0mKeyError\u001b[0m\u001b[1;33m(\u001b[0m\u001b[0mkey\u001b[0m\u001b[1;33m)\u001b[0m \u001b[1;32mfrom\u001b[0m \u001b[0merr\u001b[0m\u001b[1;33m\u001b[0m\u001b[1;33m\u001b[0m\u001b[0m\n\u001b[0m\u001b[0;32m   3083\u001b[0m \u001b[1;33m\u001b[0m\u001b[0m\n\u001b[0;32m   3084\u001b[0m         \u001b[1;32mif\u001b[0m \u001b[0mtolerance\u001b[0m \u001b[1;32mis\u001b[0m \u001b[1;32mnot\u001b[0m \u001b[1;32mNone\u001b[0m\u001b[1;33m:\u001b[0m\u001b[1;33m\u001b[0m\u001b[1;33m\u001b[0m\u001b[0m\n",
      "\u001b[1;31mKeyError\u001b[0m: 'start_time'"
     ]
    }
   ],
   "source": [
    "# 1.5. cars_trips - getting trip minutes:\n",
    "\n",
    "cars_trips['start_time'] = pd.to_datetime(cars_trips['start_time']) # transform dates to date-time format\n",
    "cars_trips['end_time'] = pd.to_datetime(cars_trips['end_time'])\n",
    "#get the difference in the variables\n",
    "cars_trips['custom_trip_minutes'] = (cars_trips['end_time'] - cars_trips['start_time']).astype('timedelta64[s]')/60\n",
    "#remove redundant variables from the trip\n",
    "cars_trips = cars_trips.drop(['start_time','end_time','start_longitude','start_latitude','end_longitude','end_latitude','store_and_fwd_fl'], axis=1)\n",
    "#save the data\n",
    "cars_trips.to_csv('../../a_data/ab_processed_data/p_cars_trips.csv', index=False)\n"
   ]
  },
  {
   "cell_type": "code",
   "execution_count": 10,
   "id": "316b1131",
   "metadata": {},
   "outputs": [
    {
     "name": "stdout",
     "output_type": "stream",
     "text": [
      "Index(['car_id', 'trip_distance', 'rate_code_id', 'custom_trip_minutes'], dtype='object')\n"
     ]
    }
   ],
   "source": [
    "print(cars_trips.columns)"
   ]
  },
  {
   "cell_type": "code",
   "execution_count": 17,
   "id": "b4a893f1",
   "metadata": {},
   "outputs": [],
   "source": [
    "cars_trips.to_csv('../../a_data/ab_processed_data/p_cars_trips.csv', index=False)"
   ]
  },
  {
   "cell_type": "code",
   "execution_count": null,
   "id": "6431ab65",
   "metadata": {},
   "outputs": [],
   "source": []
  }
 ],
 "metadata": {
  "kernelspec": {
   "display_name": "Python 3",
   "language": "python",
   "name": "python3"
  },
  "language_info": {
   "codemirror_mode": {
    "name": "ipython",
    "version": 3
   },
   "file_extension": ".py",
   "mimetype": "text/x-python",
   "name": "python",
   "nbconvert_exporter": "python",
   "pygments_lexer": "ipython3",
   "version": "3.8.8"
  }
 },
 "nbformat": 4,
 "nbformat_minor": 5
}
